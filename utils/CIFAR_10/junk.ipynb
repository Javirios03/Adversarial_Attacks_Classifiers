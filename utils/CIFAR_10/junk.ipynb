{
 "cells": [
  {
   "cell_type": "code",
   "execution_count": 6,
   "metadata": {},
   "outputs": [],
   "source": [
    "import os\n",
    "import pickle"
   ]
  },
  {
   "cell_type": "code",
   "execution_count": 12,
   "metadata": {},
   "outputs": [
    {
     "name": "stdout",
     "output_type": "stream",
     "text": [
      "c:\\TFG\\Git\\data/CIFAR_10/cifar-10-batches-py\n",
      "Loading CIFAR-10 data from:  c:\\TFG\\Git\\data/CIFAR_10/cifar-10-batches-py\\data_batch_1\n",
      "<class 'dict'>\n"
     ]
    }
   ],
   "source": [
    "def unpickle(file):\n",
    "    with open(file, 'rb') as fo:\n",
    "        dict = pickle.load(fo, encoding='bytes')\n",
    "    return dict\n",
    "\n",
    "\n",
    "def load_cifar10_data(file):\n",
    "    print(\"Loading CIFAR-10 data from: \", file)\n",
    "    data = unpickle(file)\n",
    "    return data\n",
    "\n",
    "\n",
    "path = os.path.join(os.getcwd(), 'data/CIFAR_10/cifar-10-batches-py')\n",
    "print(path)\n",
    "# # List the files in the directory\n",
    "# files = os.listdir(path)\n",
    "# print(files)\n",
    "\n",
    "# Load the data into memory\n",
    "data_batch_1 = load_cifar10_data(os.path.join(path, 'data_batch_1'))\n",
    "print(type(data_batch_1))"
   ]
  },
  {
   "cell_type": "code",
   "execution_count": 14,
   "metadata": {},
   "outputs": [
    {
     "name": "stdout",
     "output_type": "stream",
     "text": [
      "c:\\TFG\\Git\n",
      "├── README.md\n",
      "├── data\n",
      "│   ├── CIFAR_10\n",
      "│   │   ├── cifar-10-batches-py\n",
      "│   │   │   ├── batches.meta\n",
      "│   │   │   ├── data_batch_1\n",
      "│   │   │   ├── data_batch_2\n",
      "│   │   │   ├── data_batch_3\n",
      "│   │   │   ├── data_batch_4\n",
      "│   │   │   ├── data_batch_5\n",
      "│   │   │   ├── readme.html\n",
      "│   │   │   └── test_batch\n",
      "│   │   └── cifar-10-python.tar.gz\n",
      "│   └── CIFAR_100\n",
      "└── src\n",
      "    ├── data\n",
      "    │   └── CIFAR_10\n",
      "    │       ├── cifar_files.py\n",
      "    │       └── junk.ipynb\n",
      "    └── models\n",
      "        ├── AllConv.py\n",
      "        ├── NiN.py\n",
      "        └── VGG16.py\n"
     ]
    }
   ],
   "source": [
    "def generate_tree(directory, prefix=\"\"):\n",
    "    tree = []\n",
    "    entries = sorted(os.listdir(directory))\n",
    "    entries = [e for e in entries if e not in ['.git', '.gitignore', '.idea', '__pycache__']]\n",
    "\n",
    "    for i, entry in enumerate(entries):\n",
    "        path = os.path.join(directory, entry)\n",
    "        connector = \"├── \" if i < len(entries) - 1 else \"└── \"\n",
    "        tree.append(f\"{prefix}{connector}{entry}\")\n",
    "        if os.path.isdir(path):\n",
    "            extension = \"│   \" if i < len(entries) - 1 else \"    \"\n",
    "            tree.extend(generate_tree(path, prefix + extension))\n",
    "    return tree\n",
    "\n",
    "current_directory = os.getcwd()\n",
    "print(current_directory)\n",
    "tree = generate_tree(current_directory)\n",
    "print(\"\\n\".join(tree))"
   ]
  },
  {
   "cell_type": "code",
   "execution_count": 2,
   "metadata": {},
   "outputs": [
    {
     "name": "stdout",
     "output_type": "stream",
     "text": [
      "True\n",
      "2.5.1+cu124\n",
      "12.4\n"
     ]
    }
   ],
   "source": [
    "import torch\n",
    "\n",
    "print(torch.cuda.is_available())\n",
    "print(torch.__version__)\n",
    "print(torch.version.cuda)"
   ]
  }
 ],
 "metadata": {
  "kernelspec": {
   "display_name": "tfg_env",
   "language": "python",
   "name": "python3"
  },
  "language_info": {
   "codemirror_mode": {
    "name": "ipython",
    "version": 3
   },
   "file_extension": ".py",
   "mimetype": "text/x-python",
   "name": "python",
   "nbconvert_exporter": "python",
   "pygments_lexer": "ipython3",
   "version": "3.9.13"
  }
 },
 "nbformat": 4,
 "nbformat_minor": 2
}
